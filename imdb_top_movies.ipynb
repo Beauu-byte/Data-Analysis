{
 "cells": [
  {
   "cell_type": "code",
   "execution_count": 2,
   "id": "8e6f0fa4-582b-4ed9-b839-b1d63cc2c84b",
   "metadata": {},
   "outputs": [
    {
     "data": {
      "text/html": [
       "<div>\n",
       "<style scoped>\n",
       "    .dataframe tbody tr th:only-of-type {\n",
       "        vertical-align: middle;\n",
       "    }\n",
       "\n",
       "    .dataframe tbody tr th {\n",
       "        vertical-align: top;\n",
       "    }\n",
       "\n",
       "    .dataframe thead th {\n",
       "        text-align: right;\n",
       "    }\n",
       "</style>\n",
       "<table border=\"1\" class=\"dataframe\">\n",
       "  <thead>\n",
       "    <tr style=\"text-align: right;\">\n",
       "      <th></th>\n",
       "      <th>Series_Title</th>\n",
       "      <th>Released_Year</th>\n",
       "      <th>Genre</th>\n",
       "      <th>IMDB_Rating</th>\n",
       "      <th>Meta_score</th>\n",
       "      <th>Director</th>\n",
       "      <th>No_of_Votes</th>\n",
       "      <th>Gross</th>\n",
       "    </tr>\n",
       "  </thead>\n",
       "  <tbody>\n",
       "    <tr>\n",
       "      <th>0</th>\n",
       "      <td>The Shawshank Redemption</td>\n",
       "      <td>1994</td>\n",
       "      <td>Drama</td>\n",
       "      <td>9.3</td>\n",
       "      <td>80</td>\n",
       "      <td>Frank Darabont</td>\n",
       "      <td>2343110</td>\n",
       "      <td>28,341,469</td>\n",
       "    </tr>\n",
       "    <tr>\n",
       "      <th>1</th>\n",
       "      <td>The Godfather</td>\n",
       "      <td>1972</td>\n",
       "      <td>Crime, Drama</td>\n",
       "      <td>9.2</td>\n",
       "      <td>100</td>\n",
       "      <td>Francis Ford Coppola</td>\n",
       "      <td>1620367</td>\n",
       "      <td>134,966,411</td>\n",
       "    </tr>\n",
       "    <tr>\n",
       "      <th>2</th>\n",
       "      <td>The Dark Knight</td>\n",
       "      <td>2008</td>\n",
       "      <td>Action, Crime, Drama</td>\n",
       "      <td>9.0</td>\n",
       "      <td>84</td>\n",
       "      <td>Christopher Nolan</td>\n",
       "      <td>2341709</td>\n",
       "      <td>534,858,444</td>\n",
       "    </tr>\n",
       "  </tbody>\n",
       "</table>\n",
       "</div>"
      ],
      "text/plain": [
       "               Series_Title  Released_Year                 Genre  IMDB_Rating  \\\n",
       "0  The Shawshank Redemption           1994                 Drama          9.3   \n",
       "1             The Godfather           1972          Crime, Drama          9.2   \n",
       "2           The Dark Knight           2008  Action, Crime, Drama          9.0   \n",
       "\n",
       "   Meta_score              Director  No_of_Votes        Gross  \n",
       "0          80        Frank Darabont      2343110   28,341,469  \n",
       "1         100  Francis Ford Coppola      1620367  134,966,411  \n",
       "2          84     Christopher Nolan      2341709  534,858,444  "
      ]
     },
     "execution_count": 2,
     "metadata": {},
     "output_type": "execute_result"
    }
   ],
   "source": [
    "import pandas as pd\n",
    "import matplotlib.pyplot as plt\n",
    "import seaborn as sns\n",
    "\n",
    "\n",
    "df = pd.read_csv(\"imdb_top_1000.csv\")\n",
    "\n",
    "df.head()"
   ]
  },
  {
   "cell_type": "code",
   "execution_count": 3,
   "id": "0437765e-367c-47dc-8455-bd600e8bf49a",
   "metadata": {},
   "outputs": [
    {
     "data": {
      "text/plain": [
       "(3, 8)"
      ]
     },
     "execution_count": 3,
     "metadata": {},
     "output_type": "execute_result"
    }
   ],
   "source": [
    "df.shape"
   ]
  },
  {
   "cell_type": "code",
   "execution_count": 4,
   "id": "836b7a9a-60e0-4baa-ade3-650a439f6cb4",
   "metadata": {},
   "outputs": [
    {
     "name": "stdout",
     "output_type": "stream",
     "text": [
      "<class 'pandas.core.frame.DataFrame'>\n",
      "RangeIndex: 3 entries, 0 to 2\n",
      "Data columns (total 8 columns):\n",
      " #   Column         Non-Null Count  Dtype  \n",
      "---  ------         --------------  -----  \n",
      " 0   Series_Title   3 non-null      object \n",
      " 1   Released_Year  3 non-null      int64  \n",
      " 2   Genre          3 non-null      object \n",
      " 3   IMDB_Rating    3 non-null      float64\n",
      " 4   Meta_score     3 non-null      int64  \n",
      " 5   Director       3 non-null      object \n",
      " 6   No_of_Votes    3 non-null      int64  \n",
      " 7   Gross          3 non-null      object \n",
      "dtypes: float64(1), int64(3), object(4)\n",
      "memory usage: 324.0+ bytes\n"
     ]
    }
   ],
   "source": [
    "df.info()"
   ]
  },
  {
   "cell_type": "code",
   "execution_count": 8,
   "id": "8e7a9ea9-3808-4676-abcd-221c9b210940",
   "metadata": {},
   "outputs": [
    {
     "data": {
      "text/plain": [
       "np.int64(0)"
      ]
     },
     "execution_count": 8,
     "metadata": {},
     "output_type": "execute_result"
    }
   ],
   "source": [
    "df.isnull()\n",
    "\n",
    "df.duplicated().sum()"
   ]
  },
  {
   "cell_type": "code",
   "execution_count": 9,
   "id": "39de5482-c1a2-44bf-b726-6eccc8d5e5c8",
   "metadata": {},
   "outputs": [
    {
     "data": {
      "text/plain": [
       "0     28,341,469\n",
       "1    134,966,411\n",
       "2    534,858,444\n",
       "Name: Gross, dtype: object"
      ]
     },
     "execution_count": 9,
     "metadata": {},
     "output_type": "execute_result"
    }
   ],
   "source": [
    "df['Gross'].head()"
   ]
  },
  {
   "cell_type": "code",
   "execution_count": 10,
   "id": "1648e3c0-0825-47a3-94d2-bcedb67a9d1c",
   "metadata": {},
   "outputs": [],
   "source": [
    "df['Gross'] = df['Gross'].str.replace(',', '')\n",
    "df['Gross'] = df['Gross'].astype(float)"
   ]
  },
  {
   "cell_type": "code",
   "execution_count": 11,
   "id": "5ce7c53f-34a5-47e2-80fc-d375b5ea901a",
   "metadata": {},
   "outputs": [
    {
     "data": {
      "text/plain": [
       "0                   Drama\n",
       "1            Crime, Drama\n",
       "2    Action, Crime, Drama\n",
       "Name: Genre, dtype: object"
      ]
     },
     "execution_count": 11,
     "metadata": {},
     "output_type": "execute_result"
    }
   ],
   "source": [
    "df['Genre'].head()"
   ]
  },
  {
   "cell_type": "code",
   "execution_count": 12,
   "id": "13c24cf3-8259-40e8-ab97-3e961ff485bd",
   "metadata": {},
   "outputs": [],
   "source": [
    "df[['Genre_1', 'Genre_2', 'Genre_3']] = df['Genre'].str.split(\",\",expand=True)"
   ]
  },
  {
   "cell_type": "code",
   "execution_count": 13,
   "id": "0eafda59-6243-45dc-bd01-1e59556091f5",
   "metadata": {},
   "outputs": [],
   "source": [
    "df['Genre_1'] = df['Genre_1'].str.strip()\n",
    "df['Genre_2'] = df['Genre_2'].str.strip()\n",
    "df['Genre_3'] = df['Genre_3'].str.strip()"
   ]
  },
  {
   "cell_type": "code",
   "execution_count": 14,
   "id": "176a19ee-a67a-4d02-b324-b76f12e5cb30",
   "metadata": {},
   "outputs": [
    {
     "data": {
      "text/plain": [
       "array([1994, 1972, 2008])"
      ]
     },
     "execution_count": 14,
     "metadata": {},
     "output_type": "execute_result"
    }
   ],
   "source": [
    "df['Released_Year'].unique()"
   ]
  },
  {
   "cell_type": "code",
   "execution_count": 15,
   "id": "a7256719-bc01-4f74-b2c1-0b1d79047ad4",
   "metadata": {},
   "outputs": [
    {
     "data": {
      "text/plain": [
       "np.int64(0)"
      ]
     },
     "execution_count": 15,
     "metadata": {},
     "output_type": "execute_result"
    }
   ],
   "source": [
    "df['Released_Year'].isnull().sum()"
   ]
  },
  {
   "cell_type": "code",
   "execution_count": 16,
   "id": "862489f4-1150-4b8c-a073-74223dd91694",
   "metadata": {},
   "outputs": [
    {
     "data": {
      "text/plain": [
       "0    2343110\n",
       "1    1620367\n",
       "2    2341709\n",
       "Name: No_of_Votes, dtype: int64"
      ]
     },
     "execution_count": 16,
     "metadata": {},
     "output_type": "execute_result"
    }
   ],
   "source": [
    "df['No_of_Votes'].head()"
   ]
  },
  {
   "cell_type": "code",
   "execution_count": 18,
   "id": "b9ec2477-9eb7-4c9c-b46b-062b0bd9d868",
   "metadata": {},
   "outputs": [
    {
     "data": {
      "text/plain": [
       "dtype('int64')"
      ]
     },
     "execution_count": 18,
     "metadata": {},
     "output_type": "execute_result"
    }
   ],
   "source": [
    "df['Meta_score'].head()\n",
    "df['Meta_score'].dtype"
   ]
  },
  {
   "cell_type": "code",
   "execution_count": 19,
   "id": "37d49820-c82a-41bf-a2f2-dc7f4dd30fc1",
   "metadata": {},
   "outputs": [
    {
     "data": {
      "text/plain": [
       "np.int64(0)"
      ]
     },
     "execution_count": 19,
     "metadata": {},
     "output_type": "execute_result"
    }
   ],
   "source": [
    "df['Meta_score'].isnull().sum()"
   ]
  },
  {
   "cell_type": "code",
   "execution_count": 20,
   "id": "41966349-4b21-492b-818c-fe8a59c93e52",
   "metadata": {},
   "outputs": [
    {
     "data": {
      "text/plain": [
       "Series_Title     0\n",
       "Released_Year    0\n",
       "Genre            0\n",
       "IMDB_Rating      0\n",
       "Meta_score       0\n",
       "Director         0\n",
       "No_of_Votes      0\n",
       "Gross            0\n",
       "Genre_1          0\n",
       "Genre_2          1\n",
       "Genre_3          2\n",
       "dtype: int64"
      ]
     },
     "execution_count": 20,
     "metadata": {},
     "output_type": "execute_result"
    }
   ],
   "source": [
    "df.isnull().sum()"
   ]
  },
  {
   "cell_type": "code",
   "execution_count": 21,
   "id": "4771fe0b-c9f8-4e61-a596-e43727afb24a",
   "metadata": {},
   "outputs": [
    {
     "data": {
      "text/plain": [
       "Series_Title      object\n",
       "Released_Year      int64\n",
       "Genre             object\n",
       "IMDB_Rating      float64\n",
       "Meta_score         int64\n",
       "Director          object\n",
       "No_of_Votes        int64\n",
       "Gross            float64\n",
       "Genre_1           object\n",
       "Genre_2           object\n",
       "Genre_3           object\n",
       "dtype: object"
      ]
     },
     "execution_count": 21,
     "metadata": {},
     "output_type": "execute_result"
    }
   ],
   "source": [
    "df.dtypes"
   ]
  },
  {
   "cell_type": "code",
   "execution_count": 25,
   "id": "e6706793-cfd5-43a2-b5c6-816ae5617edc",
   "metadata": {},
   "outputs": [
    {
     "data": {
      "text/plain": [
       "np.int64(0)"
      ]
     },
     "execution_count": 25,
     "metadata": {},
     "output_type": "execute_result"
    }
   ],
   "source": [
    "df['Genre_2'].isnull().sum()"
   ]
  },
  {
   "cell_type": "code",
   "execution_count": 24,
   "id": "ddb57a8c-f2c5-4013-8d98-d19e7b57bd3f",
   "metadata": {},
   "outputs": [],
   "source": [
    "df['Genre_2'] = df['Genre_2'].fillna('None')\n",
    "df['Genre_3'] = df['Genre_3'].fillna('None')"
   ]
  },
  {
   "cell_type": "code",
   "execution_count": 26,
   "id": "bde956e3-9811-44b7-b45f-11384f47f9a3",
   "metadata": {},
   "outputs": [
    {
     "data": {
      "image/png": "[encoded data removed]",
      "text/plain": [
       "<Figure size 1000x500 with 1 Axes>"
      ]
     },
     "metadata": {},
     "output_type": "display_data"
    }
   ],
   "source": [
    "df['Genre_1'].value_counts().head(10).plot(kind='bar', figsize=(10, 5), color='skyblue')\n",
    "\n",
    "plt.title(\"Top 10 Primary Genres\")\n",
    "plt.xlabel(\"Genre\")\n",
    "plt.ylabel(\"Number of Movies\")\n",
    "plt.xticks(rotation=45)\n",
    "plt.grid(axis='y')\n",
    "plt.tight_layout()\n",
    "plt.show()"
   ]
  },
  {
   "cell_type": "code",
   "execution_count": 27,
   "id": "5b162f1b-ed80-44b1-8191-5b5bd0af7d8b",
   "metadata": {},
   "outputs": [
    {
     "data": {
      "image/png": "[encoded data removed]",
      "text/plain": [
       "<Figure size 1200x500 with 1 Axes>"
      ]
     },
     "metadata": {},
     "output_type": "display_data"
    }
   ],
   "source": [
    "df['Released_Year'].value_counts().sort_index().plot(kind='line', marker='o', figsize=(12, 5), color='green')\n",
    "\n",
    "plt.title(\"Number of Top IMDb Movies by Year\")\n",
    "plt.xlabel(\"Release Year\")\n",
    "plt.ylabel(\"Number of Movies\")\n",
    "plt.grid()\n",
    "plt.tight_layout()\n",
    "plt.show()"
   ]
  },
  {
   "cell_type": "code",
   "execution_count": 28,
   "id": "14c58427-30c8-4344-ac64-03fabc42cccd",
   "metadata": {},
   "outputs": [
    {
     "data": {
      "image/png": "[encoded data removed]",
      "text/plain": [
       "<Figure size 640x480 with 1 Axes>"
      ]
     },
     "metadata": {},
     "output_type": "display_data"
    }
   ],
   "source": [
    "sns.scatterplot(data=df, x='No_of_Votes', y='IMDB_Rating', alpha=0.6)\n",
    "\n",
    "plt.title(\"Votes vs IMDb Rating\")\n",
    "plt.xlabel(\"Number of Votes\")\n",
    "plt.ylabel(\"IMDb Rating\")\n",
    "plt.grid()\n",
    "plt.tight_layout()\n",
    "plt.show()"
   ]
  },
  {
   "cell_type": "code",
   "execution_count": null,
   "id": "a1630098-77df-45af-8c49-250d357a1342",
   "metadata": {},
   "outputs": [],
   "source": []
  }
 ],
 "metadata": {
  "kernelspec": {
   "display_name": "Python 3 (ipykernel)",
   "language": "python",
   "name": "python3"
  },
  "language_info": {
   "codemirror_mode": {
    "name": "ipython",
    "version": 3
   },
   "file_extension": ".py",
   "mimetype": "text/x-python",
   "name": "python",
   "nbconvert_exporter": "python",
   "pygments_lexer": "ipython3",
   "version": "3.13.5"
  }
 },
 "nbformat": 4,
 "nbformat_minor": 5
}
